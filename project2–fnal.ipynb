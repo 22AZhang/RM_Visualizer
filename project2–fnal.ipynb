{
 "cells": [
  {
   "cell_type": "markdown",
   "metadata": {
    "tags": []
   },
   "source": [
    "## Introduction"
   ]
  },
  {
   "cell_type": "markdown",
   "metadata": {},
   "source": [
    "This is a tutorial for an n-body simulator using Scipy's ordinary differential equation integrator and gradient calculator functions complete with animation tools in plotly. This simulator is "
   ]
  },
  {
   "cell_type": "code",
   "execution_count": null,
   "metadata": {
    "tags": []
   },
   "outputs": [],
   "source": [
    "# Import necessary packages\n",
    "import numpy as np\n",
    "import scipy\n",
    "from scipy.optimize import approx_fprime\n",
    "from scipy import integrate\n",
    "import plotly.express as px\n",
    "import plotly.graph_objects as go\n",
    "from plotly.subplots import make_subplots\n",
    "import matplotlib.pyplot as plt\n",
    "\n",
    "# Define some constants for examples\n",
    "au2m       = 1.49598e11 # AU in meters\n",
    "days2sec    = 86400. # Days in seconds\n",
    "years2sec    = 31557600. # Years in seconds\n",
    "mSun_kg     = 1.98892e30 # Mass of Sun in Kg\n",
    "mEarth_kg   = 5.9742e24 # Mass of Earth in Kg\n",
    "mJupiter_kg = 1.8987e27 # Mass of Jupiter in Kg\n",
    "rSun_m = 6.9634e8 # Radius of Sun in meters\n",
    "rJupiter_m = 6.9911e7 # Radius of Jupiter in meters\n",
    "rEarth_m = 6.371e6 # Radius of Earth in meters\n",
    "pMass = 1.6723e-27 # Mass of Proton in Kg\n",
    "eMass = 9.1094e-31 # Mass of Electron in Kg\n",
    "eCharge = 1.6e-19 # Elementary Charge in Coulombs\n",
    "hDist = 5.29e-11 # Distance of Electron to nucleus in Hydrogen in meters\n",
    "eVel = 2.18e6 # Velocity of electron around hydrogen nucleus in m/s\n",
    "Earth_vel = 29784.8 # Velocity of Earth around Sun in m/s\n",
    "G = 6.67e-11 # Gravitational Constant\n",
    "K = 9.0e+9 # Coulomb Constant"
   ]
  },
  {
   "cell_type": "markdown",
   "metadata": {},
   "source": [
    "## System and Particle Classes"
   ]
  },
  {
   "cell_type": "markdown",
   "metadata": {},
   "source": [
    "Below, we define particle and system classes to store the state and properties of the system we aim to simulate. These properties include:\n",
    "1. List of particles with mass, position, velocity, and charge\n",
    "2. System force type (Gravitational, Coulomb, Spring)\n",
    "3. Coupling strength between particles\n",
    "4. Equilibrium of spring force(s)"
   ]
  },
  {
   "cell_type": "code",
   "execution_count": null,
   "metadata": {
    "tags": []
   },
   "outputs": [],
   "source": [
    "# Particle Class\n",
    "class particle:\n",
    "    def __init__(self, mass, init_pos, init_vel, charge):\n",
    "        if len(init_vel) != len(init_pos):\n",
    "            raise Exception(\"ERROR: Velocity and/or Position are not the same dimensions!\")\n",
    "        if len(init_vel) != 3 or len(init_pos) != 3:\n",
    "            raise Exception(\"ERROR: Velocity and/or Position are not 3D!\")\n",
    "        if type(mass) != int and type(mass) != float:\n",
    "            raise Exception(\"ERROR: Mass is not a number!\")\n",
    "        if type(charge) != int and type(charge) != float:\n",
    "            raise Exception(\"ERROR: Mass is not a number!\")\n",
    "        if mass < 0:\n",
    "            raise Exception(\"ERROR: Mass is negative!\")\n",
    "\n",
    "            \n",
    "        self.mass = mass\n",
    "        self.charge = charge\n",
    "        self.pos = np.array(init_pos)\n",
    "        self.vel = np.array(init_vel)\n",
    "        \n",
    "class system:\n",
    "    def __init__(self, p_list, coupling, force_type, eq):\n",
    "        if len(p_list) == 0:\n",
    "            raise Exception(\"ERROR: No particles in system\")\n",
    "        if np.shape(coupling)[0] != np.shape(coupling)[1]:\n",
    "            raise Exception(\"ERROR: Coupling matrix not square!\")\n",
    "        if np.shape(eq)[0] != np.shape(eq)[1]:\n",
    "            raise Exception(\"ERROR: Spring equilibrium matrix not square!\")\n",
    "            \n",
    "        self.p_list = np.array(p_list) # Particle list\n",
    "        self.type = force_type # 0 = Gravity, 1 = Charge, 2 = Spring \n",
    "        self.coupling = coupling # 2D array of force coupling between particles\n",
    "        self.eq = eq # 2D array of spring equilibrium distance\n",
    "        self.size = len(p_list)\n",
    "    def size(self):\n",
    "        return self.size"
   ]
  },
  {
   "cell_type": "markdown",
   "metadata": {},
   "source": [
    "Below we define functions for:\n",
    "1. pot_func: the potentials of the three forces we aim to simulate\n",
    "2. force_calculator: a calculator of the forces between all particles of a system-state for said forces (using Scipy's gradient function Approx_fprime)\n",
    "3. int_sys: a function that takes in a system and returns the velocity and acceleration vectors of the particles, fed to Scipy's ODE integrator. Note: The syntax of \"x\" in the function contains both position and velocity of the particles. This is an explicit argument of the function alongisde the system because ode_int requires the integrated ODE function to take in position and velocity and return the time-derivates of them."
   ]
  },
  {
   "cell_type": "code",
   "execution_count": null,
   "metadata": {},
   "outputs": [],
   "source": [
    "def pot_func(dist, p1, p2, force_type, coupling, equi):\n",
    "    # Potential function for gravitational potential  (0), electrostatic forces (1), and spring (2)\n",
    "    # Force type == 0 for gravitational, 1 for Coulombic, 2 for spring potential\n",
    "    # Coupling is a 2D array for the strength of all particle interactions;\n",
    "    # If 0, then particles do not interact. Any other number scales interaction by that value\n",
    "    if force_type == 0:\n",
    "        potential = coupling * (G * p1.mass * p2.mass) / (dist)\n",
    "    elif force_type == 1:\n",
    "        potential = coupling * -1*(K * p1.charge * p2.charge) / (dist)\n",
    "    elif force_type == 2:\n",
    "        potential = -1*((coupling / 2) * (dist - equi) ** 2)\n",
    "    else:\n",
    "        raise Exception(\"Force type invalid!\")\n",
    "    return potential\n",
    "\n",
    "        \n",
    "def force_calculator(psystem): # Calculate forces between all particles, put into an array\n",
    "    forces = np.zeros((len(psystem.p_list), 3))\n",
    "    forces = np.array(forces)\n",
    "\n",
    "    # Loop over all possible pairs of particles without double counting\n",
    "    for i in range(0,len(psystem.p_list)):\n",
    "        for j in range(i+1,len(psystem.p_list)): \n",
    "            m1 = psystem.p_list[i].mass # Masses\n",
    "            m2 = psystem.p_list[j].mass\n",
    "            r = psystem.p_list[i].pos - psystem.p_list[j].pos # Vector\n",
    "            dist = np.linalg.norm(r) # Distance Magnitude\n",
    "            # Use Scipy's Approx_fprime to calculate gradient i.e. force from potential function\n",
    "            force = approx_fprime(dist, pot_func, dist, psystem.p_list[i], psystem.p_list[j], psystem.type, psystem.coupling[i][j], psystem.eq[i][j]) # Force vector between two particles\n",
    "            # Sum net force, keeping in mind Newton's 3rd Law\n",
    "            forces[i] += force * r / dist\n",
    "            forces[j] -= force * r / dist\n",
    "    return forces   \n",
    "\n",
    "# System integrator function to be fed into Scipy's Odeint\n",
    "# Take in the positions and velocities, the system, and the time array\n",
    "# and returns velocities and accelerations\n",
    "def int_sys(x, t, psystem): \n",
    "    n = int(len(x)/2) # Split position and velocity array\n",
    "    p = np.array(x[:n])\n",
    "    v = np.array(x[n:])\n",
    "    for i in range(0,psystem.size):\n",
    "        # Update position and velocity of the particles\n",
    "        psystem.p_list[i].pos = p[3*i:3*i+3]\n",
    "        psystem.p_list[i].vel = v[3*i:3*i+3]\n",
    "    vel = np.array(np.zeros((len(psystem.p_list), DIMENSIONS)))\n",
    "    part_count = 0\n",
    "\n",
    "    # \n",
    "    i = 0\n",
    "    while i < len(v):\n",
    "        for j in range(0, DIMENSIONS):\n",
    "            vel[part_count][j] = v[i]\n",
    "            i += 1\n",
    "        part_count += 1\n",
    "    \n",
    "    accels = np.zeros((len(psystem.p_list), DIMENSIONS))\n",
    "    accels = np.array(accels)\n",
    "    # Get net force on all particles from current system state\n",
    "    forces = np.array(force_calculator(psystem))\n",
    "    # Convert forces into accelerations\n",
    "    for i in range(0, psystem.size):\n",
    "        accels[i] = forces[i]/psystem.p_list[i].mass\n",
    "    # print(accels)\n",
    "    a = np.ravel(accels)\n",
    "    v = np.ravel(vel)\n",
    "    # print(a, v)\n",
    "    return np.concatenate((v, a))"
   ]
  },
  {
   "cell_type": "markdown",
   "metadata": {},
   "source": [
    "## Visualization / Animation"
   ]
  },
  {
   "cell_type": "markdown",
   "metadata": {},
   "source": [
    "Below is the function to create a user-controlled animation of the trajectories in the system over a given time. "
   ]
  },
  {
   "cell_type": "code",
   "execution_count": null,
   "metadata": {
    "tags": []
   },
   "outputs": [],
   "source": [
    "def nBody_animation(num_particles, traj, t):\n",
    "    # Given the array-like input variable t, initialize variables that store\n",
    "    # the number of time steps and the length of each step.\n",
    "    n_timesteps = len(t)\n",
    "    total_time = int(max(t))\n",
    "    dt = round((total_time/n_timesteps), 2)\n",
    "    # Initialize array of particle position data - random for now\n",
    "    positions = np.random.randn(n_timesteps, num_particles, 3)\n",
    "    # Iterate through array traj to replace values in positions array with those in traj\n",
    "    for n in range(0,n_timesteps):\n",
    "        for i in range(0,num_particles):\n",
    "            for c in range(0,3):\n",
    "                positions[n,i,c] = traj[n,3*i+c]\n",
    "    # Create x, y, and z ranges based on the min, max values of x, y, and z\n",
    "    # That appear in the positions array\n",
    "    x_range = np.array([np.min(positions[:,:,0]), np.max(positions[:,:,0])])\n",
    "    y_range = np.array([np.min(positions[:,:,1]), np.max(positions[:,:,1])])\n",
    "    z_range = np.array([np.min(positions[:,:,2]), np.max(positions[:,:,2])])\n",
    "    # Initialize the figure\n",
    "    layout = go.Layout(width=600, height=600, title=\"computed N-body\")\n",
    "    fig = go.Figure(layout=layout)\n",
    "    # Assign unique random colors to each particle\n",
    "    # And add the initial plot (time step zero)\n",
    "    particle_colors = {}\n",
    "    for iparticle in range(num_particles):\n",
    "        rgb = np.random.randint(0, 255, 3)\n",
    "        color = f'rgb({rgb[0]},{rgb[1]},{rgb[2]})'\n",
    "        particle_colors[iparticle] = color\n",
    "        # Add initial scatter plot (marker)\n",
    "        fig.add_trace(go.Scatter3d(\n",
    "            x=[], y=[], z=[],\n",
    "            mode='markers',\n",
    "            marker=dict(size=5, color=color),\n",
    "            name=f'Particle {iparticle}'\n",
    "        ))\n",
    "        # Add trajectory line\n",
    "        fig.add_trace(go.Scatter3d(\n",
    "            x=[], y=[], z=[],\n",
    "            mode='lines',\n",
    "            line=dict(color=color, width=2),\n",
    "            name=f'Trajectory {iparticle}'\n",
    "        ))\n",
    "    # Assign length of trajectory tail\n",
    "    tail_length = 1000\n",
    "    # Create frames for each time step\n",
    "    frames = []\n",
    "    for k in range(n_timesteps):\n",
    "        frame_data = []\n",
    "        for iparticle in range(num_particles):\n",
    "            # Current positions of particles (scatter plot)\n",
    "            frame_data.append(go.Scatter3d(\n",
    "                x=np.array(positions[k, iparticle, 0]),\n",
    "                y=np.array(positions[k, iparticle, 1]),\n",
    "                z=np.array(positions[k, iparticle, 2]),\n",
    "                mode='markers',\n",
    "                marker=dict(size=5, color=particle_colors[iparticle]),\n",
    "                name=f'Particle {iparticle + 1}'\n",
    "            ))\n",
    "            # Particle trajectory tails (lines)\n",
    "            start_index = max(0, k - tail_length + 1)  # Ensure we don’t try to make a trajectory start before 0\n",
    "            frame_data.append(go.Scatter3d(\n",
    "                x=positions[start_index:k+1, iparticle, 0],\n",
    "                y=positions[start_index:k+1, iparticle, 1],\n",
    "                z=positions[start_index:k+1, iparticle, 2],\n",
    "                mode='lines',\n",
    "                line=dict(color=particle_colors[iparticle], width=2),\n",
    "                name=f'Trajectory {iparticle + 1}'\n",
    "            ))\n",
    "        frames.append(go.Frame(data=frame_data, name=f'frame{k}'))\n",
    "    fig.frames = frames\n",
    "    # Add animation controls\n",
    "    fig.update_layout(\n",
    "        updatemenus=[dict(\n",
    "            type=\"buttons\",\n",
    "            buttons=[\n",
    "                dict(label=\"Play\",\n",
    "                     method=\"animate\",\n",
    "                     args=[None, {\"frame\": {\"duration\": 50, \"redraw\": True},\n",
    "                                  \"fromcurrent\": True, \"transition\": {\"duration\": 0}}]),\n",
    "                dict(label=\"Pause\",\n",
    "                     method=\"animate\",\n",
    "                     args=[[None], {\"frame\": {\"duration\": 0, \"redraw\": False},\n",
    "                                    \"mode\": \"immediate\",\n",
    "                                    \"transition\": {\"duration\": 0}}])\n",
    "            ],\n",
    "            direction=\"left\",\n",
    "            pad={\"r\": 10, \"t\": 87},\n",
    "            showactive=False,\n",
    "            x=0.1, xanchor=\"right\", y=0, yanchor=\"top\"\n",
    "        )],\n",
    "        sliders=[dict(\n",
    "            active=0,\n",
    "            yanchor=\"top\", xanchor=\"left\",\n",
    "            currentvalue={\"prefix\": \"Time: \", \"suffix\": \" s\"},\n",
    "            pad={\"b\": 10, \"t\": 50}, len=0.9, x=0.1, y=0,\n",
    "            steps=[{\"method\": \"animate\",\n",
    "                    \"args\": [[f'frame{k}'],\n",
    "                             {\"frame\": {\"duration\": 10, \"redraw\": True},\n",
    "                              \"mode\": \"immediate\",\n",
    "                              \"transition\": {\"duration\": 0}}], \"label\": f\"{k * dt:.2f}\"}\n",
    "                   for k in range(n_timesteps)]\n",
    "        )]\n",
    "    )\n",
    "    # Update initial layout to include the custom axis ranges set above\n",
    "    fig.update_layout(\n",
    "        scene=dict(\n",
    "            xaxis=dict(title='x (m)', range=[x_range[0], x_range[1]], autorange=False),\n",
    "            yaxis=dict(title='y (m)', range=[y_range[0], y_range[1]], autorange=False),\n",
    "            zaxis=dict(title='z (m)', range=[z_range[0], z_range[1]], autorange=False),\n",
    "            aspectratio=dict(x=1, y=1, z=1)\n",
    "        )\n",
    "    )\n",
    "    return fig"
   ]
  },
  {
   "cell_type": "markdown",
   "metadata": {},
   "source": [
    "## Spring Example"
   ]
  },
  {
   "cell_type": "markdown",
   "metadata": {},
   "source": [
    "### A 3 dimensional simulation of n-body systems with springs. Feel free to change the initial conditions of the system below!"
   ]
  },
  {
   "cell_type": "code",
   "execution_count": null,
   "metadata": {
    "tags": []
   },
   "outputs": [],
   "source": [
    "# Set constants and initial state of the system\n",
    "DIMENSIONS = 3 # Dimensions to model the system\n",
    "num_particles = 2 # Number of particles\n",
    "# Force coupling value between all particles (0 for no interactions, f1 for full interaction, 0-1 for force adjusted by a fraction)\n",
    "coupling = [[0, 10],\n",
    "            [10, 0]]\n",
    "\n",
    "eq = [[0, 1],\n",
    "     [1, 0]]\n",
    "# Masses of the particles\n",
    "masses = [1, 1]\n",
    "\n",
    "# Initial positions of the particles\n",
    "positions = [[1, 4, 5], [1, 7, 8]]\n",
    "# Initial velocities of the particles\n",
    "velocities = [[0, 0, 0], [0, 0, 0]]\n",
    "# Charges of particles\n",
    "charges = [0, 0]\n",
    "\n",
    "# Charges of the particles\n",
    "p = []\n",
    "for i in range(0, num_particles):\n",
    "    p.append(particle(masses[i], positions[i], velocities[i], charges[i]))\n",
    "# Create particle objects from the particle class and create a system of particles\n",
    "psystem = system(p, coupling, 2, eq)\n",
    "\n",
    "# Sanity Check for class initialization\n",
    "# for i in range(num_particles):\n",
    "#     print(\"Position: \" + str(psystem.p_list[i].pos))\n",
    "#     print(\"Velocity: \" + str(psystem.p_list[i].vel))\n",
    "#     print(\"Mass: \" + str(psystem.p_list[i].mass))\n",
    "#     print(\"Charge: \" + str(psystem.p_list[i].charge))\n",
    "\n",
    "# forces = force_calculator(psystem)\n",
    "# print(forces) #works now!\n",
    "\n",
    "# Create array of positions and velocities\n",
    "pos_vel = []\n",
    "for i in range(0, psystem.size):\n",
    "    for j in range(0,3):\n",
    "        pos_vel.append(psystem.p_list[i].pos[j])\n",
    "        \n",
    "for i in range(0, psystem.size):\n",
    "    for j in range(0,3):\n",
    "        pos_vel.append(psystem.p_list[i].vel[j])\n",
    "        \n",
    "t = np.linspace(0,10,1000)\n",
    "\n",
    "# Integrate system over time t\n",
    "traj = scipy.integrate.odeint(int_sys, pos_vel, t, args=(psystem,))"
   ]
  },
  {
   "cell_type": "code",
   "execution_count": null,
   "metadata": {
    "tags": []
   },
   "outputs": [],
   "source": [
    "# fig_nbody_animation = nBody_animation(num_particles, traj, t)\n",
    "# fig_nbody_animation.show()"
   ]
  },
  {
   "cell_type": "markdown",
   "metadata": {},
   "source": [
    "## Gravity Example"
   ]
  },
  {
   "cell_type": "markdown",
   "metadata": {},
   "source": [
    "### A 3 dimensional simulation of n-body systems with Gravity. Feel free to change the initial conditions of the system below!"
   ]
  },
  {
   "cell_type": "code",
   "execution_count": null,
   "metadata": {
    "tags": []
   },
   "outputs": [],
   "source": [
    "# Set constants and initial state of the system\n",
    "DIMENSIONS = 3 # Dimensions to model the system\n",
    "num_particles = 2 # Number of particles\n",
    "# force coupling value between all particles (0 for no interactions, 1 for full interaction, 0-1 for force adjusted by a fraction)\n",
    "coupling = np.ones([num_particles, num_particles]) \n",
    "\n",
    "eq = np.ones([num_particles, num_particles])\n",
    "# Masses of the particles\n",
    "masses = [1*mSun_kg, 1*mSun_kg]\n",
    "# Initial positions of the particles\n",
    "positions = [[-0.3*au2m, -0.3*au2m, 0.1*au2m], [0.207*au2m, 0.207*au2m, 0.3*au2m]]\n",
    "# Initial velocities of the particles\n",
    "velocities = [[0, 0, 0], [0.707*Earth_vel, -0.707*Earth_vel, 0]]\n",
    "# Charges of particles\n",
    "charges = [0, 0]\n",
    "\n",
    "# Charges of the particles\n",
    "p = []\n",
    "for i in range(0, num_particles):\n",
    "    p.append(particle(masses[i], positions[i], velocities[i], charges[i]))\n",
    "# Create particle objects from the particle class and create a system of particles\n",
    "psystem = system(p, coupling, 0, eq)\n",
    "\n",
    "# Sanity Check for class initialization\n",
    "# for i in range(num_particles):\n",
    "#     print(\"Position: \" + str(psystem.p_list[i].pos))\n",
    "#     print(\"Velocity: \" + str(psystem.p_list[i].vel))\n",
    "#     print(\"Mass: \" + str(psystem.p_list[i].mass))\n",
    "#     print(\"Charge: \" + str(psystem.p_list[i].charge))\n",
    "\n",
    "# forces = force_calculator(psystem)\n",
    "# print(forces) #works now!\n",
    "\n",
    "# Create array of positions and velocities\n",
    "pos_vel = []\n",
    "for i in range(0, psystem.size):\n",
    "    for j in range(0,3):\n",
    "        pos_vel.append(psystem.p_list[i].pos[j])\n",
    "        \n",
    "for i in range(0, psystem.size):\n",
    "    for j in range(0,3):\n",
    "        pos_vel.append(psystem.p_list[i].vel[j])\n",
    "        \n",
    "t = np.linspace(0,1*years2sec,1000)\n",
    "\n",
    "# Integrate system over time t\n",
    "traj = scipy.integrate.odeint(int_sys, pos_vel, t, args=(psystem,))"
   ]
  },
  {
   "cell_type": "code",
   "execution_count": null,
   "metadata": {
    "tags": []
   },
   "outputs": [],
   "source": [
    "# fig_nbody_animation = nBody_animation(num_particles, traj, t)\n",
    "# fig_nbody_animation.show()"
   ]
  },
  {
   "cell_type": "markdown",
   "metadata": {},
   "source": [
    "## Coulomb Example"
   ]
  },
  {
   "cell_type": "markdown",
   "metadata": {},
   "source": [
    "### A 3 dimensional simulation of n-body systems with Coulomb forces. Feel free to change the initial conditions of the system below!"
   ]
  },
  {
   "cell_type": "code",
   "execution_count": null,
   "metadata": {
    "tags": []
   },
   "outputs": [],
   "source": [
    "# Set constants and initial state of the system\n",
    "DIMENSIONS = 3 # Dimensions to model the system\n",
    "num_particles = 2 # Number of particles\n",
    "# Force coupling value between all particles (0 for no interactions, 1 for full interaction, 0-1 for force adjusted by a fraction)\n",
    "coupling = np.ones([num_particles, num_particles]) \n",
    "\n",
    "\n",
    "eq = np.zeros([num_particles, num_particles])\n",
    "# Masses of the particles\n",
    "masses = [pMass, eMass]\n",
    "# Initial positions of the particles\n",
    "positions = [[0, 0, 0], [0, hDist, 0]]\n",
    "# Initial velocities of the particles\n",
    "velocities = [[0, 0, 0], [eVel, 0, 0]]\n",
    "# Charges of particles\n",
    "charges = [eCharge, -eCharge]\n",
    "\n",
    "# Charges of the particles\n",
    "p = []\n",
    "for i in range(0, num_particles):\n",
    "    p.append(particle(masses[i], positions[i], velocities[i], charges[i]))\n",
    "# Create particle objects from the particle class and create a system of particles\n",
    "psystem = system(p, coupling, 1, eq)\n",
    "\n",
    "# Sanity Check for class initialization\n",
    "# for i in range(num_particles):\n",
    "#     print(\"Position: \" + str(psystem.p_list[i].pos))\n",
    "#     print(\"Velocity: \" + str(psystem.p_list[i].vel))\n",
    "#     print(\"Mass: \" + str(psystem.p_list[i].mass))\n",
    "#     print(\"Charge: \" + str(psystem.p_list[i].charge))\n",
    "\n",
    "# forces = force_calculator(psystem)\n",
    "# print(forces) #works now!\n",
    "\n",
    "# Create array of positions and velocities\n",
    "pos_vel = []\n",
    "for i in range(0, psystem.size):\n",
    "    for j in range(0,3):\n",
    "        pos_vel.append(psystem.p_list[i].pos[j])\n",
    "        \n",
    "for i in range(0, psystem.size):\n",
    "    for j in range(0,3):\n",
    "        pos_vel.append(psystem.p_list[i].vel[j])\n",
    "        \n",
    "t = np.linspace(0,3e-16,1000)\n",
    "\n",
    "# Integrate system over time t\n",
    "traj = scipy.integrate.odeint(int_sys, pos_vel, t, args=(psystem,))"
   ]
  },
  {
   "cell_type": "code",
   "execution_count": null,
   "metadata": {
    "tags": []
   },
   "outputs": [],
   "source": [
    "# fig_nbody_animation = nBody_animation(num_particles, traj, t)\n",
    "# fig_nbody_animation.show()"
   ]
  },
  {
   "cell_type": "code",
   "execution_count": null,
   "metadata": {},
   "outputs": [],
   "source": []
  }
 ],
 "metadata": {
  "kernelspec": {
   "display_name": "Python 3.9 (py39)",
   "language": "python",
   "name": "py39"
  },
  "language_info": {
   "codemirror_mode": {
    "name": "ipython",
    "version": 3
   },
   "file_extension": ".py",
   "mimetype": "text/x-python",
   "name": "python",
   "nbconvert_exporter": "python",
   "pygments_lexer": "ipython3",
   "version": "3.9.7"
  }
 },
 "nbformat": 4,
 "nbformat_minor": 4
}
